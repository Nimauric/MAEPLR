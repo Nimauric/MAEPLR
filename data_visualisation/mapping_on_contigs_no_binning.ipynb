{
 "cells": [
  {
   "cell_type": "code",
   "execution_count": 2,
   "metadata": {},
   "outputs": [],
   "source": [
    "import pysam\n",
    "from Bio import SeqIO\n",
    "import pandas as pd"
   ]
  },
  {
   "cell_type": "code",
   "execution_count": 3,
   "metadata": {},
   "outputs": [],
   "source": [
    "#alignement = pysam.AlignmentFile(\"../outputs/zymo/metaMDBG/reads_on_contigs.bam\", \"rb\")\n",
    "#contigs = pysam.FastaFile(\"../outputs/zymo/metaMDBG/assembly.fasta\")\n",
    "#reads = pysam.FastaFile(\"/groups/genscale/nimauric/long_reads/zymoD6331.fastq\")\n",
    "\n",
    "alignement_path = \"../outputs/salad-irg/metaMDBG/reads_on_contigs.bam\"\n",
    "contigs_path = \"../outputs/salad-irg/metaMDBG/assembly.fasta\"\n",
    "reads_path = \"/groups/genscale/nimauric/long_reads/SMRTcell1-M8-fev-sal-irg-1.hifi_reads.fastq\"\n",
    "threshold = 500\n"
   ]
  },
  {
   "cell_type": "code",
   "execution_count": 15,
   "metadata": {},
   "outputs": [
    {
     "name": "stderr",
     "output_type": "stream",
     "text": [
      "[W::hts_idx_load3] The index file is older than the data file: ../outputs/salad-irg/metaMDBG/reads_on_contigs.bam.bai\n"
     ]
    }
   ],
   "source": [
    "### Calculate the range of covered positions\n",
    "covered_positions = {}\n",
    "with pysam.AlignmentFile(alignement_path, \"rb\") as bam:\n",
    "    for alignment in bam.fetch() :\n",
    "        read_name = alignment.query_name\n",
    "        start_pos = alignment.reference_start\n",
    "        end_pos = alignment.reference_end\n",
    "\n",
    "        if read_name in covered_positions :\n",
    "            # In case of multiple alignements, trim the new alignement\n",
    "            for pos_range in covered_positions[read_name]:\n",
    "                # Trim the begining\n",
    "                if start_pos >= pos_range[0] and start_pos < pos_range[1] :\n",
    "                    start_pos = pos_range[1]\n",
    "\n",
    "                # Trim the end\n",
    "                if end_pos > pos_range[0] and end_pos <= pos_range[1] :\n",
    "                    end_pos = pos_range[0]\n",
    "\n",
    "            # If not empty, add the new alignement\n",
    "            if start_pos > end_pos : \n",
    "                covered_positions[read_name].append((start_pos, end_pos))\n",
    "\n",
    "        else:\n",
    "            covered_positions[read_name] = [(start_pos, end_pos)]\n",
    "\n"
   ]
  },
  {
   "cell_type": "code",
   "execution_count": 26,
   "metadata": {},
   "outputs": [
    {
     "name": "stdout",
     "output_type": "stream",
     "text": [
      "1983671 7460061174\n"
     ]
    }
   ],
   "source": [
    "# Calculate the number of aligned reads and the total alignement length from those positions\n",
    "alignements_length = 0\n",
    "aligned_reads_count = 0\n",
    "\n",
    "for p in covered_positions.values() : \n",
    "    tmp_length = 0\n",
    "    for a in p : \n",
    "        tmp_length += a[1] - a[0]\n",
    "    \n",
    "    alignements_length += tmp_length\n",
    "    if(tmp_length > threshold) : \n",
    "        aligned_reads_count +=1\n",
    "\n",
    "print(aligned_reads_count, alignements_length)\n",
    "\n",
    "\n",
    "\n"
   ]
  },
  {
   "cell_type": "code",
   "execution_count": 17,
   "metadata": {},
   "outputs": [
    {
     "name": "stdout",
     "output_type": "stream",
     "text": [
      "2913016 20251105762\n"
     ]
    }
   ],
   "source": [
    "# Calculate the total number of reads and the total read length\n",
    "reads_length = 0\n",
    "reads_count = 0\n",
    "\n",
    "with open(reads_path, \"r\") as fastq :\n",
    "    for record in SeqIO.parse(fastq, \"fastq\") :\n",
    "        reads_length += len(record.seq)\n",
    "        reads_count += 1\n",
    "print(reads_count, reads_length)"
   ]
  },
  {
   "cell_type": "code",
   "execution_count": 27,
   "metadata": {},
   "outputs": [
    {
     "name": "stdout",
     "output_type": "stream",
     "text": [
      "aligned reads over total reads count ratio : 68.10% (1983671/2913016)\n",
      "alignement length over total reads length ratio : 36.84% (7460061174/20251105762)\n"
     ]
    }
   ],
   "source": [
    "# Calculate the ratio\n",
    "\n",
    "print(\"aligned reads over total reads count ratio : {:.2f}% ({}/{})\".format(aligned_reads_count / reads_count * 100,aligned_reads_count, reads_count ))\n",
    "print(\"alignement length over total reads length ratio : {:.2f}% ({}/{})\".format(alignements_length / reads_length * 100, alignements_length, reads_length))"
   ]
  }
 ],
 "metadata": {
  "kernelspec": {
   "display_name": "jupyter",
   "language": "python",
   "name": "python3"
  },
  "language_info": {
   "codemirror_mode": {
    "name": "ipython",
    "version": 3
   },
   "file_extension": ".py",
   "mimetype": "text/x-python",
   "name": "python",
   "nbconvert_exporter": "python",
   "pygments_lexer": "ipython3",
   "version": "3.10.13"
  }
 },
 "nbformat": 4,
 "nbformat_minor": 2
}
