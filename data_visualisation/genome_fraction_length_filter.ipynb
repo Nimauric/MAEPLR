{
 "cells": [
  {
   "cell_type": "code",
   "execution_count": 183,
   "metadata": {},
   "outputs": [],
   "source": [
    "import os\n",
    "import pysam\n",
    "\n"
   ]
  },
  {
   "cell_type": "code",
   "execution_count": 184,
   "metadata": {},
   "outputs": [],
   "source": [
    "sample = \"Burkholderia_ambifaria_100X\" #salad_irg+\n",
    "alignments_path = \"../outputs/\" + sample + \"/metaMDBG/contigs_on_reference.Burkholderia_ambifaria.bam\"\n",
    "contigs_path = \"../outputs/\" + sample + \"/metaMDBG/assembly.fasta\"\n",
    "reference_genome_path = \"/groups/genscale/nimauric/soil_references/Burkholderia_ambifaria.fasta\"\n",
    "\n",
    "\n",
    "contig_coverage_threshold = 0"
   ]
  },
  {
   "cell_type": "markdown",
   "metadata": {},
   "source": [
    "head outputs/Burkholderia_ambifaria_5X/metaMDBG/metaquast/results/combined_reference/contigs_reports/minimap_output/assembly.coords\n",
    "head outputs/Burkholderia_ambifaria_5X/metaMDBG/contigs_on_reference.Burkholderia_ambifaria.bam"
   ]
  },
  {
   "cell_type": "code",
   "execution_count": 185,
   "metadata": {},
   "outputs": [],
   "source": [
    "### Get the length of each contig\n",
    "contig_lengths = {} #name : length\n",
    "contig_name=\"\"\n",
    "with open(contigs_path, \"r\") as contigs_file:\n",
    "    for line in contigs_file:\n",
    "        if line.startswith(\">\"):\n",
    "            contig_name=line.strip()[1:]\n",
    "            contig_lengths[contig_name] = 0\n",
    "        else:\n",
    "            contig_lengths[contig_name] += len(line.strip())"
   ]
  },
  {
   "cell_type": "code",
   "execution_count": 186,
   "metadata": {},
   "outputs": [],
   "source": [
    "def calculate_ani(alignment):\n",
    "    length = alignment.query_alignment_length\n",
    "    if(length == 0) :\n",
    "        return 0\n",
    "    mismatches_and_gaps = alignment.get_tag(\"NM\")\n",
    "\n",
    "    ani_score = 1 - (mismatches_and_gaps / length)\n",
    "    ani_score = 1 -alignment.get_tag(\"de\")\n",
    "    return ani_score\n"
   ]
  },
  {
   "cell_type": "code",
   "execution_count": 187,
   "metadata": {},
   "outputs": [
    {
     "name": "stderr",
     "output_type": "stream",
     "text": [
      "[W::hts_idx_load3] The index file is older than the data file: ../outputs/Burkholderia_ambifaria_100X/metaMDBG/contigs_on_reference.Burkholderia_ambifaria.bam.bai\n"
     ]
    },
    {
     "name": "stdout",
     "output_type": "stream",
     "text": [
      "{'CP066037.1': 3532803, 'CP066038.1': 2613560, 'CP066040.1': 1265635, 'CP066039.1': 38605}\n"
     ]
    }
   ],
   "source": [
    "filtered_alignemnts = {}\n",
    "with pysam.AlignmentFile(alignments_path, \"rb\") as bam:\n",
    "    for alignment in bam.fetch() :\n",
    "        contig_name = alignment.query_name\n",
    "        if alignment.reference_length >= contig_coverage_threshold * contig_lengths[contig_name] :\n",
    "            reference_name = alignment.reference_name\n",
    "            start_pos = alignment.reference_start\n",
    "            end_pos = alignment.reference_end\n",
    "\n",
    "            # Skip alignments if its average nucleotide identity is lower than 95%\n",
    "            if calculate_ani(alignment) < 0.95 : \n",
    "                continue\n",
    "            \n",
    "            if reference_name in filtered_alignemnts :\n",
    "                # If the alignment overlaps with existing alignments in the same contig, trim it to remove the overlaps\n",
    "                for i in range(len(filtered_alignemnts[reference_name])):\n",
    "                    existing_start = filtered_alignemnts[reference_name][i][0]\n",
    "                    existing_end = filtered_alignemnts[reference_name][i][1]\n",
    "\n",
    "                    if(start_pos < existing_start and end_pos > existing_end) : \n",
    "                        filtered_alignemnts[reference_name][i] = (0,0)\n",
    "                    if(start_pos <= existing_end and start_pos >= existing_start) :\n",
    "                        start_pos = existing_end \n",
    "                    if(end_pos >= existing_start and end_pos <= existing_end) : \n",
    "                        end_pos = existing_start\n",
    "\n",
    "                # If not empty, add the new alignement\n",
    "                if start_pos < end_pos : \n",
    "                    filtered_alignemnts[reference_name].append((start_pos, end_pos))\n",
    "\n",
    "            else:\n",
    "                filtered_alignemnts[reference_name] = [(start_pos, end_pos)]\n",
    "            #print(filtered_alignemnts)\n",
    "\n",
    "\n",
    "aligned_length = {}\n",
    "for a in filtered_alignemnts.keys() : \n",
    "    for tuple in filtered_alignemnts[a] :\n",
    "        if a not in aligned_length.keys() : \n",
    "            aligned_length[a] = 0\n",
    "        aligned_length[a] += tuple[1] - tuple[0]\n",
    "    \n",
    "print(aligned_length)\n",
    "\n"
   ]
  },
  {
   "cell_type": "code",
   "execution_count": 188,
   "metadata": {},
   "outputs": [
    {
     "name": "stdout",
     "output_type": "stream",
     "text": [
      "Genome Fraction: 99.03%\n"
     ]
    }
   ],
   "source": [
    "reference_genome_size = 0\n",
    "with open(reference_genome_path, \"r\") as reference_genome_file:\n",
    "    for line in reference_genome_file:\n",
    "        if not line.startswith(\">\"):\n",
    "            reference_genome_size += len(line.strip())\n",
    "\n",
    "genome_fraction = sum(aligned_length.values()) / reference_genome_size\n",
    "print(f\"Genome Fraction: {genome_fraction*100:.2f}%\")\n",
    "\n"
   ]
  }
 ],
 "metadata": {
  "language_info": {
   "name": "python"
  }
 },
 "nbformat": 4,
 "nbformat_minor": 2
}
