{
 "cells": [
  {
   "cell_type": "code",
   "execution_count": 1,
   "metadata": {},
   "outputs": [],
   "source": [
    "### Imports ###\n",
    "import pandas as pd\n",
    "from Bio import SeqIO\n",
    "import pysam\n",
    "import matplotlib.pyplot as plt\n",
    "\n",
    "\n"
   ]
  },
  {
   "cell_type": "code",
   "execution_count": 2,
   "metadata": {},
   "outputs": [],
   "source": [
    "### Arguments ###\n",
    "checkm_report =  \"../outputs/zymo/metaMDBG/metabat2_bins_reads_alignement/checkm_report.txt\"\n",
    "bins_directory = \"../outputs/zymo/metaMDBG/metabat2_bins_reads_alignement/bins\"\n",
    "reads_on_contigs_alignment = \"../outputs/zymo/metaMDBG/reads_on_contigs.bam\"\n",
    "reads_path = \"/groups/genscale/nimauric/long_reads/zymoD6331.fastq\"\n"
   ]
  },
  {
   "cell_type": "code",
   "execution_count": 3,
   "metadata": {},
   "outputs": [],
   "source": [
    "### Data processing ###\n",
    "\n",
    "#I) : get the quality of each bin\n",
    "def GSCS_quality(contamination, completeness, contigs) : \n",
    "    if ((contamination <=1) and (completeness >=99) and (contigs <=1)) : \n",
    "        return \"near complete\"   \n",
    "    if ((contamination <=5) and (completeness >=90)) :\n",
    "        return \"high quality\"     \n",
    "    if ((contamination <=10) and (completeness >=50)) :\n",
    "        return \"medium quality\"   \n",
    "    return \"low quality\"\n",
    "\n",
    "\n",
    "bin_to_quality = pd.read_csv(checkm_report, sep='\\s+', skiprows=6, \n",
    "    names = [\"Bin ID\", \"Marker\", \"lineage\", \"genomes\", \"markers\", \"sets\", \"0\", \"1\", \"2\", \"3\", \"4\", \"5+\", \n",
    "             \"Completeness\", \"Contamination\", \"Strain hetero\", \"Contigs\", \"Size\", \"N50\", \"N50/Size\"])\n",
    "\n",
    "bin_to_quality[\"Quality\"] = bin_to_quality.apply(lambda x: GSCS_quality(x['Contamination'], x['Completeness'], x['Contigs']), axis=1)\n",
    "bin_to_quality = {bin_id: quality for bin_id, quality in zip(bin_to_quality[\"Bin ID\"], bin_to_quality[\"Quality\"])}"
   ]
  },
  {
   "cell_type": "code",
   "execution_count": 4,
   "metadata": {},
   "outputs": [
    {
     "name": "stdout",
     "output_type": "stream",
     "text": [
      "processing bin 1/23..."
     ]
    },
    {
     "name": "stdout",
     "output_type": "stream",
     "text": [
      "processing bin 23/23..."
     ]
    }
   ],
   "source": [
    "#II) : get the bin of each contig\n",
    "\n",
    "max_bin = str(len(bin_to_quality.keys()))\n",
    "bin_number = 0\n",
    "contig_to_bin={}\n",
    "for bin_name in bin_to_quality.keys() : \n",
    "    bin_number +=1\n",
    "    print(\"\\rprocessing bin \" + str(bin_number) + \"/\" + max_bin + \"...\", end='', flush=True)\n",
    "    \n",
    "    with open(bins_directory + \"/\"+ bin_name + \".fa\", \"r\") as fasta_file :\n",
    "        for record in SeqIO.parse(fasta_file, \"fasta\"):\n",
    "            contig_to_bin[record.name] = bin_name\n",
    "        \n"
   ]
  },
  {
   "cell_type": "code",
   "execution_count": 5,
   "metadata": {},
   "outputs": [],
   "source": [
    "\n",
    "#III) : get the quality of the bin containing the contigs that each read is aligned to, with the length of the alignments\n",
    "\n",
    "reads_to_quality = {}\n",
    "\n",
    "# Open the BAM file\n",
    "with pysam.AlignmentFile(reads_on_contigs_alignment, \"rb\") as bamfile:\n",
    "    # Iterate over each read in the BAM file\n",
    "    for alignment in bamfile.fetch():\n",
    "        read_name = alignment.query_name\n",
    "        contig_name = alignment.reference_name\n",
    "        try :\n",
    "            bin_name = contig_to_bin[contig_name]\n",
    "            quality = bin_to_quality[bin_name]\n",
    "        except KeyError : \n",
    "            quality = \"unbinned\"\n",
    "\n",
    "        start_pos = alignment.query_alignment_start\n",
    "        end_pos = alignment.query_alignment_end\n",
    "\n",
    "        alignment = (quality, start_pos, end_pos, alignment.query_alignment_length)\n",
    "    \n",
    "        if read_name in reads_to_quality : \n",
    "            reads_to_quality[read_name].append(alignment)\n",
    "        else : \n",
    "            reads_to_quality[read_name] = [alignment]\n",
    "\n",
    "\n"
   ]
  },
  {
   "cell_type": "code",
   "execution_count": 6,
   "metadata": {},
   "outputs": [],
   "source": [
    "#IV) : get the length of each read\n",
    "reads_to_length = {}\n",
    "with open(reads_path, \"r\") as reads_file :\n",
    "    i=0\n",
    "    for line in reads_file:\n",
    "        line = line.strip()\n",
    "        if i == 0:\n",
    "            name= line[1:].split(\" \")[0]\n",
    "        elif i == 1:\n",
    "            length = len(line)\n",
    "        elif i == 3:\n",
    "            i= -1\n",
    "            reads_to_length[name] = length\n",
    "        i+=1\n"
   ]
  },
  {
   "cell_type": "code",
   "execution_count": 7,
   "metadata": {},
   "outputs": [],
   "source": [
    "qualities = [\"unmapped\", \"unbinned\", \"low quality\", \"medium quality\", \"high quality\",\"near complete\"]\n",
    "\n",
    "\n",
    "alignment_lengths = {\"unmapped\" : 0, \"unbinned\" : 0, \"low quality\" : 0, \"medium quality\" : 0, \"high quality\" : 0,\"near complete\" : 0}\n",
    "aligned_reads_count = {\"unmapped\" : 0, \"unbinned\" : 0, \"low quality\" : 0, \"medium quality\" : 0, \"high quality\" : 0,\"near complete\" : 0}\n",
    "\n",
    "for read_name, alignments in reads_to_quality.items():\n",
    "    alignments = sorted(alignments, key=lambda x: x[1])\n",
    "\n",
    "    # Merge overlapping alignments of the same quality\n",
    "    merged_alignments = [(\"unmapped\", 0, reads_to_length[read_name], reads_to_length[read_name])]\n",
    "    for quality in qualities[1:] : \n",
    "        current_alignment = (quality, 0, 0, 0)\n",
    "        for alignment in alignments :\n",
    "            if alignment[0] != quality :\n",
    "                continue\n",
    "            max_quality = quality\n",
    "            if alignment[1] <= current_alignment[2]:\n",
    "                maximum = max(alignment[2], current_alignment[2])\n",
    "                current_alignment = (quality, current_alignment[1], maximum, maximum-current_alignment[1])\n",
    "            else:\n",
    "                if current_alignment[1] != 0 or current_alignment[2] != 0:\n",
    "                    merged_alignments.append(current_alignment)\n",
    "                current_alignment = alignment\n",
    "        if current_alignment[1] != 0 or current_alignment[2] != 0:\n",
    "            merged_alignments.append(current_alignment)\n",
    "    aligned_reads_count[max_quality] += 1\n",
    "    \n",
    "    # Remove overlaps between alignments of different qualities, and store the alignemnt lengths\n",
    "    test_trimmed=0\n",
    "    for alignment in merged_alignments:\n",
    "        quality_index = qualities.index(alignment[0])\n",
    "        start_pos = alignment[1]\n",
    "        end_pos = alignment[2]\n",
    "        \n",
    "        for potential_overlap in merged_alignments : \n",
    "            if qualities.index(potential_overlap[0]) > quality_index : \n",
    "                overlap_start_pos = potential_overlap[1]\n",
    "                overlap_end_pos = potential_overlap[2]\n",
    "                # Trim the start of the alignment\n",
    "                if(start_pos <= overlap_end_pos and start_pos >= overlap_start_pos) :\n",
    "                    start_pos = overlap_end_pos \n",
    "                # Trim the end of the alignment\n",
    "                if(end_pos >= overlap_start_pos and end_pos <= overlap_end_pos) : \n",
    "                    end_pos = overlap_start_pos\n",
    "                # Split the alignment in two\n",
    "                if(start_pos < overlap_start_pos and end_pos > overlap_end_pos) : \n",
    "                    merged_alignments.append((alignment[0],start_pos, overlap_start_pos, overlap_start_pos-start_pos))\n",
    "                    merged_alignments.append((alignment[0],overlap_end_pos, end_pos, end_pos-overlap_end_pos))\n",
    "                    start_pos = 0\n",
    "                    end_pos = 0\n",
    "                    break\n",
    "        # If not empty, add the new alignement\n",
    "        if start_pos < end_pos : \n",
    "           test_trimmed += end_pos-start_pos\n",
    "           alignment_lengths[alignment[0]] += end_pos-start_pos\n",
    "\n",
    "# Add the information from unaligned reads\n",
    "for r in reads_to_length.keys() :\n",
    "    if r not in reads_to_quality.keys() :\n",
    "        aligned_reads_count[\"unmapped\"] += 1\n",
    "        alignment_lengths[\"unmapped\"] += reads_to_length[r]\n"
   ]
  },
  {
   "cell_type": "code",
   "execution_count": 8,
   "metadata": {},
   "outputs": [
    {
     "name": "stdout",
     "output_type": "stream",
     "text": [
      "quality : unmapped\n",
      "aligned reads over total reads count ratio : 0.05% (906/1978852)\n",
      "alignement length over total reads length ratio : 0.35% (63048975/17993566711)\n",
      "\n",
      "quality : unbinned\n",
      "aligned reads over total reads count ratio : 0.57% (11328/1978852)\n",
      "alignement length over total reads length ratio : 0.68% (121519897/17993566711)\n",
      "\n",
      "quality : low quality\n",
      "aligned reads over total reads count ratio : 4.17% (82578/1978852)\n",
      "alignement length over total reads length ratio : 4.79% (861867503/17993566711)\n",
      "\n",
      "quality : medium quality\n",
      "aligned reads over total reads count ratio : 0.00% (0/1978852)\n",
      "alignement length over total reads length ratio : 0.00% (0/17993566711)\n",
      "\n",
      "quality : high quality\n",
      "aligned reads over total reads count ratio : 8.63% (170808/1978852)\n",
      "alignement length over total reads length ratio : 9.42% (1695065295/17993566711)\n",
      "\n",
      "quality : near complete\n",
      "aligned reads over total reads count ratio : 86.58% (1713232/1978852)\n",
      "alignement length over total reads length ratio : 84.76% (15252065041/17993566711)\n",
      "\n",
      "1.0\n",
      "1.0\n"
     ]
    }
   ],
   "source": [
    "### Plotting ###\n",
    "# Print numbers\n",
    "total_aligned_reads = 0\n",
    "total_aligned_length = 0\n",
    "\n",
    "reads_count = len(reads_to_length)\n",
    "reads_length = sum(reads_to_length.values())\n",
    "aligned_reads_count_ratio = {}\n",
    "alignements_length_ratio = {}\n",
    "for q in qualities : \n",
    "    total_aligned_reads += aligned_reads_count[q]\n",
    "    total_aligned_length += alignment_lengths[q]\n",
    "\n",
    "    aligned_reads_count_ratio[q] = aligned_reads_count[q] / reads_count\n",
    "    alignements_length_ratio[q] = alignment_lengths[q]/ reads_length\n",
    "    print(\"quality :\", q)\n",
    "    print(\"aligned reads over total reads count ratio : {:.2f}% ({}/{})\".format(aligned_reads_count_ratio[q] * 100,aligned_reads_count[q], reads_count ))\n",
    "    print(\"alignement length over total reads length ratio : {:.2f}% ({}/{})\".format(alignements_length_ratio[q] * 100, alignment_lengths[q], reads_length))\n",
    "    print()\n",
    "\n",
    "print(total_aligned_reads/reads_count)\n",
    "print(total_aligned_length/reads_length)"
   ]
  },
  {
   "cell_type": "code",
   "execution_count": 25,
   "metadata": {},
   "outputs": [
    {
     "name": "stderr",
     "output_type": "stream",
     "text": [
      "/tmp/ipykernel_10413/911385806.py:14: UserWarning: set_ticklabels() should only be used with a fixed number of ticks, i.e. after set_ticks() or using a FixedLocator.\n",
      "  plt.gca().set_yticklabels(['{:.0f}%'.format(x*100) for x in plt.gca().get_yticks()])\n"
     ]
    },
    {
     "name": "stdout",
     "output_type": "stream",
     "text": [
      "Done !\n"
     ]
    },
    {
     "data": {
      "image/png": "[encoded data removed]",
      "text/plain": [
       "<Figure size 600x600 with 1 Axes>"
      ]
     },
     "metadata": {},
     "output_type": "display_data"
    }
   ],
   "source": [
    "\n",
    "colors = ['blue', 'green', 'orange', 'red', 'grey']\n",
    "\n",
    "df = pd.concat([pd.DataFrame(aligned_reads_count_ratio, index=[\"aligned_reads_count_ratio\"]), pd.DataFrame(alignements_length_ratio, index=[\"alignement_length_ratio\"]) ])\n",
    "df = df[[\"near complete\", \"high quality\", \"medium quality\", \"low quality\", \"unbinned\"]]\n",
    "plt.figure(figsize=(6,6))\n",
    "axes = plt.axes()\n",
    "\n",
    "df.plot(kind='bar', stacked=True, ax=axes, color=colors)\n",
    "axes.set_ylim([0, 1])\n",
    "plt.xticks(rotation=0, ha='center')\n",
    "plt.gca().set_yticklabels(['{:.0f}%'.format(x*100) for x in plt.gca().get_yticks()])\n",
    "plt.legend(loc='upper right', bbox_to_anchor=(1.25, 1), title=\"Quality\", reverse=True)\n",
    "\n",
    "plt.xticks(range(2), [\"Aligned Read Count Ratio\", \"Alignment Length Ratio\"])\n",
    "\n",
    "print(\"Done !\")\n",
    "\n"
   ]
  }
 ],
 "metadata": {
  "language_info": {
   "name": "python"
  }
 },
 "nbformat": 4,
 "nbformat_minor": 2
}
